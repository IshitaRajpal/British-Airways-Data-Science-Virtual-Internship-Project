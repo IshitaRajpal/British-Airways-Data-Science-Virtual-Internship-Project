{
 "cells": [
  {
   "cell_type": "code",
   "execution_count": 41,
   "metadata": {},
   "outputs": [],
   "source": [
    "# Import necessary libraries\n",
    "\n",
    "from bs4 import BeautifulSoup\n",
    "import requests\n",
    "import pandas as pd"
   ]
  },
  {
   "cell_type": "code",
   "execution_count": 46,
   "metadata": {},
   "outputs": [
    {
     "name": "stdout",
     "output_type": "stream",
     "text": [
      "Scraping page 1\n",
      "   ---> 100 total reviews\n",
      "Scraping page 2\n",
      "   ---> 200 total reviews\n",
      "Scraping page 3\n",
      "   ---> 300 total reviews\n",
      "Scraping page 4\n",
      "   ---> 400 total reviews\n",
      "Scraping page 5\n",
      "   ---> 500 total reviews\n",
      "Scraping page 6\n",
      "   ---> 600 total reviews\n",
      "Scraping page 7\n",
      "   ---> 700 total reviews\n",
      "Scraping page 8\n",
      "   ---> 800 total reviews\n",
      "Scraping page 9\n",
      "   ---> 900 total reviews\n",
      "Scraping page 10\n",
      "   ---> 1000 total reviews\n"
     ]
    }
   ],
   "source": [
    "\n",
    "\n",
    "base_url = 'https://www.airlinequality.com/airline-reviews/british-airways'\n",
    "\n",
    "pages=10\n",
    "page_size=100\n",
    "\n",
    "reviews = []\n",
    "seat_type = []\n",
    "route =[]\n",
    "seat_comfort = []\n",
    "cabin_staff_service = []\n",
    "food_beverages = []\n",
    "ground_service = []\n",
    "value_for_money = []\n",
    "recommend =[]\n",
    "overall_rating = []\n",
    "\n",
    "\n",
    "for i in range(1, pages + 1):\n",
    "    print(f\"Scraping page {i}\")\n",
    "\n",
    "    # Create URL to collect links from paginated data.\n",
    "    url = f\"{base_url}/page/{i}/?sortby=post_date%3ADesc&pagesize={page_size}\"\n",
    "\n",
    "    # Collect HTML data from this page.\n",
    "    page = requests.get(url)\n",
    "\n",
    "    # Parse content.\n",
    "    content = page.content\n",
    "    soup = BeautifulSoup(content, \"html.parser\")\n",
    "    for para in soup.find_all(\"div\", {\"class\": \"text_content\"}):\n",
    "        reviews.append(para.get_text())\n",
    "    for para in soup.find_all(\"td\", {\"class\": \"review-rating-header cabin_flown \"}):\n",
    "        seat_type.append(para.get_text())\n",
    "    for para in soup.find_all(\"td\", {\"class\": \"review-rating-header route \"}):\n",
    "        route.append(para.get_text())\n",
    "    for para in soup.find_all(\"td\", {\"class\": \"review-rating-header seat_comfort \"}):\n",
    "        seat_comfort.append(para.get_text())\n",
    "    for para in soup.find_all(\"td\", {\"class\": \"rreview-rating-stars stars\"}):\n",
    "        cabin_staff_service.append(para.get_text())\n",
    "    \n",
    "    \n",
    "    print(f\"   ---> {len(reviews)} total reviews\")\n",
    "    "
   ]
  },
  {
   "cell_type": "code",
   "execution_count": 44,
   "metadata": {},
   "outputs": [
    {
     "name": "stdout",
     "output_type": "stream",
     "text": [
      "                                               reviews seat_type route  \\\n",
      "0    Not Verified |  Very good service on this rout...       N/A   N/A   \n",
      "1    ✅ Trip Verified |   Flight mainly let down by ...       N/A   N/A   \n",
      "2    ✅ Trip Verified |   Another awful experience b...       N/A   N/A   \n",
      "3    ✅ Trip Verified |   The service was rude, full...       N/A   N/A   \n",
      "4    ✅ Trip Verified |   This flight was a joke. Th...       N/A   N/A   \n",
      "..                                                 ...       ...   ...   \n",
      "995  ✅ Trip Verified |  Orlando to Gatwick. Terribl...       N/A   N/A   \n",
      "996  ✅ Trip Verified | Mahe to Stockholm via London...       N/A   N/A   \n",
      "997  ✅ Trip Verified |  Glasgow to Tampa via Gatwic...       N/A   N/A   \n",
      "998  Not Verified |  Orlando to Gatwick. Travelling...       N/A   N/A   \n",
      "999  ✅ Trip Verified |  London to Abu Dhabi. This i...       N/A   N/A   \n",
      "\n",
      "    seat_comfort  cabin_staff_service  \n",
      "0            N/A  Cabin Staff Service  \n",
      "1            N/A  Cabin Staff Service  \n",
      "2            N/A  Cabin Staff Service  \n",
      "3            N/A  Cabin Staff Service  \n",
      "4            N/A  Cabin Staff Service  \n",
      "..           ...                  ...  \n",
      "995          N/A                  N/A  \n",
      "996          N/A                  N/A  \n",
      "997          N/A                  N/A  \n",
      "998          N/A                  N/A  \n",
      "999          N/A                  N/A  \n",
      "\n",
      "[1000 rows x 5 columns]\n",
      "CSV file 'airline_reviews.csv' has been created successfully!\n"
     ]
    }
   ],
   "source": [
    "import pandas as pd\n",
    "\n",
    "# Find the maximum length of any list\n",
    "max_length = max(len(reviews), len(seat_type), len(route), len(seat_comfort), len(cabin_staff_service))\n",
    "\n",
    "# Function to pad lists with \"N/A\" if they are shorter\n",
    "def pad_list(lst, target_length):\n",
    "    return lst + [\"N/A\"] * (target_length - len(lst))\n",
    "\n",
    "# Ensure all lists are the same length\n",
    "reviews = pad_list(reviews, max_length)\n",
    "seat_type = pad_list(seat_type, max_length)\n",
    "route = pad_list(route, max_length)\n",
    "seat_comfort = pad_list(seat_comfort, max_length)\n",
    "cabin_staff_service = pad_list(cabin_staff_service, max_length)\n",
    "\n",
    "# Create the dataset dictionary\n",
    "dataset = {\n",
    "    'reviews': reviews, \n",
    "    'seat_type': seat_type,\n",
    "    'route': route,\n",
    "    'seat_comfort': seat_comfort,\n",
    "    'cabin_staff_service': cabin_staff_service\n",
    "}\n",
    "\n",
    "# Convert dictionary to DataFrame\n",
    "df = pd.DataFrame(dataset)\n",
    "\n",
    "# Display the dataset as a table\n",
    "print(df)\n",
    "\n",
    "# Save as CSV file\n",
    "df.to_csv(\"airline_reviews.csv\", index=False)\n",
    "print(\"CSV file 'airline_reviews.csv' has been created successfully!\")\n"
   ]
  },
  {
   "cell_type": "code",
   "execution_count": 48,
   "metadata": {},
   "outputs": [
    {
     "data": {
      "text/html": [
       "<div>\n",
       "<style scoped>\n",
       "    .dataframe tbody tr th:only-of-type {\n",
       "        vertical-align: middle;\n",
       "    }\n",
       "\n",
       "    .dataframe tbody tr th {\n",
       "        vertical-align: top;\n",
       "    }\n",
       "\n",
       "    .dataframe thead th {\n",
       "        text-align: right;\n",
       "    }\n",
       "</style>\n",
       "<table border=\"1\" class=\"dataframe\">\n",
       "  <thead>\n",
       "    <tr style=\"text-align: right;\">\n",
       "      <th></th>\n",
       "      <th>Seat Type</th>\n",
       "    </tr>\n",
       "  </thead>\n",
       "  <tbody>\n",
       "  </tbody>\n",
       "</table>\n",
       "</div>"
      ],
      "text/plain": [
       "Empty DataFrame\n",
       "Columns: [Seat Type]\n",
       "Index: []"
      ]
     },
     "execution_count": 48,
     "metadata": {},
     "output_type": "execute_result"
    }
   ],
   "source": [
    "df = pd.DataFrame()\n",
    "df[\"Seat Type\"] = seat_type\n",
    "df.head()"
   ]
  },
  {
   "cell_type": "code",
   "execution_count": 51,
   "metadata": {},
   "outputs": [],
   "source": [
    "for header in soup.find_all(\"td\", class_=\"review-rating-header cabin_flown\"):\n",
    "    # Find the corresponding value (the next <td> with class 'review-value')\n",
    "    value_td = header.find_next_sibling(\"td\", class_=\"review-value\")\n",
    "\n",
    "    if value_td:\n",
    "        seat_type.append(value_td.get_text(strip=True))"
   ]
  },
  {
   "cell_type": "code",
   "execution_count": 52,
   "metadata": {},
   "outputs": [
    {
     "data": {
      "text/html": [
       "<div>\n",
       "<style scoped>\n",
       "    .dataframe tbody tr th:only-of-type {\n",
       "        vertical-align: middle;\n",
       "    }\n",
       "\n",
       "    .dataframe tbody tr th {\n",
       "        vertical-align: top;\n",
       "    }\n",
       "\n",
       "    .dataframe thead th {\n",
       "        text-align: right;\n",
       "    }\n",
       "</style>\n",
       "<table border=\"1\" class=\"dataframe\">\n",
       "  <thead>\n",
       "    <tr style=\"text-align: right;\">\n",
       "      <th></th>\n",
       "      <th>Seat Type</th>\n",
       "    </tr>\n",
       "  </thead>\n",
       "  <tbody>\n",
       "    <tr>\n",
       "      <th>0</th>\n",
       "      <td>Business Class</td>\n",
       "    </tr>\n",
       "    <tr>\n",
       "      <th>1</th>\n",
       "      <td>Economy Class</td>\n",
       "    </tr>\n",
       "    <tr>\n",
       "      <th>2</th>\n",
       "      <td>Business Class</td>\n",
       "    </tr>\n",
       "    <tr>\n",
       "      <th>3</th>\n",
       "      <td>First Class</td>\n",
       "    </tr>\n",
       "    <tr>\n",
       "      <th>4</th>\n",
       "      <td>Business Class</td>\n",
       "    </tr>\n",
       "  </tbody>\n",
       "</table>\n",
       "</div>"
      ],
      "text/plain": [
       "        Seat Type\n",
       "0  Business Class\n",
       "1   Economy Class\n",
       "2  Business Class\n",
       "3     First Class\n",
       "4  Business Class"
      ]
     },
     "execution_count": 52,
     "metadata": {},
     "output_type": "execute_result"
    }
   ],
   "source": [
    "df = pd.DataFrame()\n",
    "df[\"Seat Type\"] = seat_type\n",
    "df.head()"
   ]
  },
  {
   "cell_type": "code",
   "execution_count": 53,
   "metadata": {},
   "outputs": [],
   "source": [
    "# Find all occurrences of the 'seat_comfort' header\n",
    "for header in soup.find_all(\"td\", class_=\"review-rating-header seat_comfort\"):\n",
    "    # Find the corresponding rating container (next <td> with class 'review-rating-stars stars')\n",
    "    rating_td = header.find_next_sibling(\"td\", class_=\"review-rating-stars stars\")\n",
    "    \n",
    "    # Count how many 'span' elements have class 'star fill' (filled stars)\n",
    "    if rating_td:\n",
    "        stars_filled = len(rating_td.find_all(\"span\", class_=\"star fill\"))\n",
    "        seat_comfort.append(stars_filled)  # Append the rating (1-5) to the list\n"
   ]
  },
  {
   "cell_type": "code",
   "execution_count": 54,
   "metadata": {},
   "outputs": [
    {
     "data": {
      "text/html": [
       "<div>\n",
       "<style scoped>\n",
       "    .dataframe tbody tr th:only-of-type {\n",
       "        vertical-align: middle;\n",
       "    }\n",
       "\n",
       "    .dataframe tbody tr th {\n",
       "        vertical-align: top;\n",
       "    }\n",
       "\n",
       "    .dataframe thead th {\n",
       "        text-align: right;\n",
       "    }\n",
       "</style>\n",
       "<table border=\"1\" class=\"dataframe\">\n",
       "  <thead>\n",
       "    <tr style=\"text-align: right;\">\n",
       "      <th></th>\n",
       "      <th>Seat Comfort</th>\n",
       "    </tr>\n",
       "  </thead>\n",
       "  <tbody>\n",
       "    <tr>\n",
       "      <th>0</th>\n",
       "      <td>3</td>\n",
       "    </tr>\n",
       "    <tr>\n",
       "      <th>1</th>\n",
       "      <td>1</td>\n",
       "    </tr>\n",
       "    <tr>\n",
       "      <th>2</th>\n",
       "      <td>3</td>\n",
       "    </tr>\n",
       "    <tr>\n",
       "      <th>3</th>\n",
       "      <td>4</td>\n",
       "    </tr>\n",
       "    <tr>\n",
       "      <th>4</th>\n",
       "      <td>3</td>\n",
       "    </tr>\n",
       "  </tbody>\n",
       "</table>\n",
       "</div>"
      ],
      "text/plain": [
       "   Seat Comfort\n",
       "0             3\n",
       "1             1\n",
       "2             3\n",
       "3             4\n",
       "4             3"
      ]
     },
     "execution_count": 54,
     "metadata": {},
     "output_type": "execute_result"
    }
   ],
   "source": [
    "df = pd.DataFrame()\n",
    "df[\"Seat Comfort\"] = seat_comfort\n",
    "df.head()"
   ]
  }
 ],
 "metadata": {
  "kernelspec": {
   "display_name": "Python 3",
   "language": "python",
   "name": "python3"
  },
  "language_info": {
   "codemirror_mode": {
    "name": "ipython",
    "version": 3
   },
   "file_extension": ".py",
   "mimetype": "text/x-python",
   "name": "python",
   "nbconvert_exporter": "python",
   "pygments_lexer": "ipython3",
   "version": "3.12.9"
  }
 },
 "nbformat": 4,
 "nbformat_minor": 2
}
